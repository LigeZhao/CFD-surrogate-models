{
 "cells": [
  {
   "cell_type": "code",
   "execution_count": 10,
   "id": "1221def8",
   "metadata": {},
   "outputs": [
    {
     "name": "stdout",
     "output_type": "stream",
     "text": [
      "(9, 2)\n",
      "(9, 5760)\n"
     ]
    }
   ],
   "source": [
    "import optuna\n",
    "from optuna.integration import TFKerasPruningCallback\n",
    "from optuna.trial import TrialState\n",
    "\n",
    "import numpy as np\n",
    "import pandas as pd\n",
    "import matplotlib.pyplot as plt\n",
    "import tensorflow as tf\n",
    "from tensorflow.keras.models import Sequential\n",
    "from tensorflow.keras.layers import Dense\n",
    "from tensorflow.keras.utils import to_categorical\n",
    "import logging\n",
    "import sklearn\n",
    "from sklearn.preprocessing import StandardScaler\n",
    "from sklearn.metrics import mean_absolute_error\n",
    "from sklearn.metrics import mean_squared_error\n",
    "from sklearn.metrics import r2_score\n",
    "from sklearn.model_selection import KFold\n",
    "import math\n",
    "\n",
    "logging.getLogger(\"tensorflow\").setLevel(logging.ERROR)\n",
    "tf.autograph.set_verbosity(0)\n",
    "\n",
    "datapath = 'data\\\\reduced_temperature_data.xlsx'\n",
    "\n",
    "X_data = np.array(pd.read_excel(datapath, sheet_name = 'boundary_condition'))\n",
    "temperature_data = np.transpose(np.array(pd.read_excel(datapath, sheet_name = 'temperature')))"
   ]
  },
  {
   "cell_type": "code",
   "execution_count": 8,
   "id": "b982eaf5",
   "metadata": {},
   "outputs": [],
   "source": [
    "training_condition = (X_data[:,1] == 10)|(X_data[:,1] == 12.5)|(X_data[:,1] == 15)|(X_data[:,1] == 17.5)|(X_data[:,1] == 20)\n",
    "training_row = np.where(training_condition)[0]\n",
    "\n",
    "row = training_row\n",
    "x_train_data = X_data[row,:]\n",
    "temperature = temperature_data[row,:]\n",
    "\n",
    "A = temperature\n",
    "U,sigma,V = np.linalg.svd(A)\n",
    "S = np.zeros(np.shape(A))\n",
    "for i in range(sigma.shape[0]):\n",
    "    S[i,i] = sigma[i]\n",
    "An = np.dot(U,S)\n",
    "\n",
    "A_ROM = np.zeros(np.shape(A))\n",
    "Modes_set = [1,2,3,4,5,6,7,8,9]\n",
    "\n",
    "An_mode = np.zeros(np.shape(An))\n",
    "V_mode = np.zeros(np.shape(V))\n",
    "\n",
    "error = []"
   ]
  },
  {
   "cell_type": "code",
   "execution_count": 9,
   "id": "e0320af2",
   "metadata": {},
   "outputs": [
    {
     "name": "stdout",
     "output_type": "stream",
     "text": [
      "5.552101357048983 3.306671385700064\n",
      "[ 1.75  4.77  8.09 11.49  1.19  3.61  6.76 10.18  1.1   3.21  6.14  9.6\n",
      "  1.08  3.33  6.2   9.47  2.38  3.96  6.76  9.97]\n",
      "0.3839865287770421\n",
      "[0.09 0.24 0.4  0.57 0.07 0.21 0.39 0.58 0.07 0.22 0.41 0.64 0.09 0.27\n",
      " 0.49 0.75 0.18 0.39 0.66 0.96]\n",
      "Running time: 0.025074005126953125 Seconds\n"
     ]
    }
   ],
   "source": [
    "import time\n",
    "from scipy.interpolate import Rbf\n",
    "start =time.time()\n",
    "\n",
    "mode_num = 5\n",
    "y_train_data = An[:,:mode_num]\n",
    "\n",
    "rbf_interpolators = []\n",
    "\n",
    "for i in range(y_train_data.shape[1]):\n",
    "    rbf_interpolator = Rbf(x_train_data[:, 0], x_train_data[:, 1], y_train_data[:, i], function='multiquadric')\n",
    "    rbf_interpolators.append(rbf_interpolator)\n",
    "\n",
    "x_test = np.delete(X_data,row,0)\n",
    "y_test = np.delete(temperature_data,row,0)\n",
    "\n",
    "An_pred = np.zeros((x_test.shape[0],5))\n",
    "\n",
    "for i in range(x_test.shape[0]):\n",
    "    new_point = x_test[i]\n",
    "    new_Y = np.array([rbf(new_point[0], new_point[1]) for rbf in rbf_interpolators])\n",
    "    An_pred[i] = new_Y\n",
    "\n",
    "\n",
    "y_pred = np.dot(An_pred, V[:mode_num])\n",
    "\n",
    "NRMSE = []\n",
    "for i in range(x_test.shape[0]):\n",
    "    NRMSE.append((mean_squared_error(y_test[i,:], y_pred[i,:]))**0.5/(np.max(y_test[i,:])-np.min(y_test[i,:])))\n",
    "\n",
    "MAE = []\n",
    "for i in range(x_test.shape[0]):\n",
    "    MAE.append(mean_absolute_error(y_test[i,:], y_pred[i,:]))\n",
    "\n",
    "print(np.mean(MAE),np.std(MAE))\n",
    "print(np.round(MAE,2))\n",
    "print(np.mean(NRMSE))\n",
    "print(np.round(NRMSE,2))\n",
    "\n",
    "df = pd.DataFrame(y_pred)\n",
    "\n",
    "df.to_excel('RBF.xlsx', index=False, header=False, engine='openpyxl')\n",
    "end=time.time()\n",
    "print('Running time: %s Seconds'%(end-start))"
   ]
  },
  {
   "cell_type": "code",
   "execution_count": null,
   "id": "6cc174ff",
   "metadata": {},
   "outputs": [],
   "source": []
  }
 ],
 "metadata": {
  "kernelspec": {
   "display_name": "Python 3 (ipykernel)",
   "language": "python",
   "name": "python3"
  },
  "language_info": {
   "codemirror_mode": {
    "name": "ipython",
    "version": 3
   },
   "file_extension": ".py",
   "mimetype": "text/x-python",
   "name": "python",
   "nbconvert_exporter": "python",
   "pygments_lexer": "ipython3",
   "version": "3.9.18"
  }
 },
 "nbformat": 4,
 "nbformat_minor": 5
}
